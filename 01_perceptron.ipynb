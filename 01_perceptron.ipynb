{
 "cells": [
  {
   "cell_type": "code",
   "execution_count": 1,
   "id": "4723a056",
   "metadata": {},
   "outputs": [],
   "source": [
    "%matplotlib inline\n",
    "import numpy as np\n",
    "import matplotlib.pyplot as plt\n",
    "from mpl_toolkits.mplot3d import Axes3D"
   ]
  },
  {
   "cell_type": "markdown",
   "id": "46a6aecc",
   "metadata": {},
   "source": [
    "# ANDゲート\n",
    "\n",
    "|x1|x2|y|\n",
    "| :--- | :---: | ---: |\n",
    "|0|0|0|\n",
    "|1|0|0|\n",
    "|0|1|0|\n",
    "|1|1|1|"
   ]
  },
  {
   "cell_type": "code",
   "execution_count": 2,
   "id": "ce97b0b8",
   "metadata": {},
   "outputs": [],
   "source": [
    "def AND(x1, x2):\n",
    "    x = np.array([x1, x2])\n",
    "\n",
    "    # weight\n",
    "    w = np.array([0.5, 0.5])\n",
    "\n",
    "    # bias\n",
    "    b = -0.7\n",
    "    \n",
    "    tmp = np.sum(w * x) + b\n",
    "    if tmp <= 0:\n",
    "        return 0\n",
    "    else:\n",
    "        return 1"
   ]
  },
  {
   "cell_type": "code",
   "execution_count": 3,
   "id": "025fdb4b",
   "metadata": {},
   "outputs": [
    {
     "name": "stdout",
     "output_type": "stream",
     "text": [
      "0 0 0\n",
      "1 0 0\n",
      "0 1 0\n",
      "1 1 1\n"
     ]
    }
   ],
   "source": [
    "# 真理値表の確認\n",
    "print(0, 0, AND(0,0))\n",
    "print(1, 0, AND(1,0))\n",
    "print(0, 1, AND(0,1))\n",
    "print(1, 1, AND(1,1))"
   ]
  },
  {
   "cell_type": "markdown",
   "id": "9bcd2c4e",
   "metadata": {},
   "source": [
    "# NANDゲート\n",
    "\n",
    "|x1|x2|y|\n",
    "| :--- | :---: | ---: |\n",
    "|0|0|1|\n",
    "|1|0|1|\n",
    "|0|1|1|\n",
    "|1|1|0|"
   ]
  },
  {
   "cell_type": "code",
   "execution_count": 4,
   "id": "f81b6fdb",
   "metadata": {},
   "outputs": [],
   "source": [
    "def NAND(x1, x2):\n",
    "    x = np.array([x1, x2])\n",
    "\n",
    "    # weight\n",
    "    w = np.array([-0.5, -0.5])\n",
    "\n",
    "    # bias\n",
    "    b = 0.7\n",
    "    \n",
    "    tmp = np.sum(w * x) + b\n",
    "    if tmp <= 0:\n",
    "        return 0\n",
    "    else:\n",
    "        return 1"
   ]
  },
  {
   "cell_type": "code",
   "execution_count": 5,
   "id": "742b133e",
   "metadata": {},
   "outputs": [
    {
     "name": "stdout",
     "output_type": "stream",
     "text": [
      "0 0 1\n",
      "1 0 1\n",
      "0 1 1\n",
      "1 1 0\n"
     ]
    }
   ],
   "source": [
    "# 真理値表の確認\n",
    "print(0, 0, NAND(0,0))\n",
    "print(1, 0, NAND(1,0))\n",
    "print(0, 1, NAND(0,1))\n",
    "print(1, 1, NAND(1,1))"
   ]
  },
  {
   "cell_type": "markdown",
   "id": "987740d7",
   "metadata": {},
   "source": [
    "# ORゲート\n",
    "\n",
    "|x1|x2|y|\n",
    "| :--- | :---: | ---: |\n",
    "|0|0|0|\n",
    "|1|0|1|\n",
    "|0|1|1|\n",
    "|1|1|1|"
   ]
  },
  {
   "cell_type": "code",
   "execution_count": 6,
   "id": "39bc40ea",
   "metadata": {},
   "outputs": [],
   "source": [
    "def OR(x1, x2):\n",
    "    x = np.array([x1, x2])\n",
    "\n",
    "    # weight\n",
    "    w = np.array([0.5, 0.5])\n",
    "\n",
    "    # bias\n",
    "    b = -0.2\n",
    "    \n",
    "    tmp = np.sum(w * x) + b\n",
    "    if tmp <= 0:\n",
    "        return 0\n",
    "    else:\n",
    "        return 1"
   ]
  },
  {
   "cell_type": "code",
   "execution_count": 7,
   "id": "5edbcfc6",
   "metadata": {},
   "outputs": [
    {
     "name": "stdout",
     "output_type": "stream",
     "text": [
      "0 0 0\n",
      "1 0 1\n",
      "0 1 1\n",
      "1 1 1\n"
     ]
    }
   ],
   "source": [
    "# 真理値表の確認\n",
    "print(0, 0, OR(0,0))\n",
    "print(1, 0, OR(1,0))\n",
    "print(0, 1, OR(0,1))\n",
    "print(1, 1, OR(1,1))"
   ]
  },
  {
   "cell_type": "markdown",
   "id": "c9eb6bfb",
   "metadata": {},
   "source": [
    "# XORゲート\n",
    "\n",
    "|x1|x2|y|\n",
    "| :--- | :---: | ---: |\n",
    "|0|0|0|\n",
    "|1|0|1|\n",
    "|0|1|1|\n",
    "|1|1|0|"
   ]
  },
  {
   "cell_type": "code",
   "execution_count": 8,
   "id": "0fd2af04",
   "metadata": {},
   "outputs": [],
   "source": [
    "def XOR(x1, x2):\n",
    "    s1 = NAND(x1, x2)\n",
    "    s2 = OR(x1, x2)\n",
    "    y = AND(s1, s2)\n",
    "    return y"
   ]
  },
  {
   "cell_type": "code",
   "execution_count": 9,
   "id": "796662d8",
   "metadata": {},
   "outputs": [
    {
     "name": "stdout",
     "output_type": "stream",
     "text": [
      "0 0 0\n",
      "1 0 1\n",
      "0 1 1\n",
      "1 1 0\n"
     ]
    }
   ],
   "source": [
    "# 真理値表の確認\n",
    "print(0, 0, XOR(0,0))\n",
    "print(1, 0, XOR(1,0))\n",
    "print(0, 1, XOR(0,1))\n",
    "print(1, 1, XOR(1,1))"
   ]
  },
  {
   "cell_type": "markdown",
   "id": "cf04ec54",
   "metadata": {},
   "source": [
    "# (蛇足)境界の可視化\n",
    "\n",
    "一層パーセプトロンで表現されたAND, NAND, ORゲートは一本の直線で0か1か分離されているのに対して、二層パーセプトロンで表現されたXORゲートはそうではないことがわかる。"
   ]
  },
  {
   "cell_type": "code",
   "execution_count": 10,
   "id": "14cf67c7",
   "metadata": {},
   "outputs": [],
   "source": [
    "x = np.linspace(0.0, 1.0)\n",
    "y = np.linspace(0.0, 1.0)\n",
    "\n",
    "xx, yy = np.meshgrid(x, y)"
   ]
  },
  {
   "cell_type": "code",
   "execution_count": 11,
   "id": "3bd1b1ed",
   "metadata": {},
   "outputs": [
    {
     "data": {
      "image/png": "[encoded data removed]",
      "text/plain": [
       "<Figure size 432x288 with 1 Axes>"
      ]
     },
     "metadata": {
      "needs_background": "light"
     },
     "output_type": "display_data"
    }
   ],
   "source": [
    "zz = np.zeros([xx.shape[0], xx.shape[1]])\n",
    "\n",
    "for i in range(xx.shape[0]):\n",
    "    for j in range(xx.shape[1]):\n",
    "        zz[i][j] = AND(xx[i][j], yy[i][j])\n",
    "\n",
    "fig, ax = plt.subplots()\n",
    "ax.scatter(xx, yy, c=zz)\n",
    "ax.set_aspect('equal', adjustable='box')\n",
    "plt.show()"
   ]
  },
  {
   "cell_type": "code",
   "execution_count": 12,
   "id": "ef7e85b2",
   "metadata": {},
   "outputs": [
    {
     "data": {
      "image/png": "[encoded data removed]",
      "text/plain": [
       "<Figure size 432x288 with 1 Axes>"
      ]
     },
     "metadata": {
      "needs_background": "light"
     },
     "output_type": "display_data"
    }
   ],
   "source": [
    "zz = np.zeros([xx.shape[0], xx.shape[1]])\n",
    "\n",
    "for i in range(xx.shape[0]):\n",
    "    for j in range(xx.shape[1]):\n",
    "        zz[i][j] = NAND(xx[i][j], yy[i][j])\n",
    "\n",
    "fig, ax = plt.subplots()\n",
    "ax.scatter(xx, yy, c=zz)\n",
    "ax.set_aspect('equal', adjustable='box')\n",
    "plt.show()"
   ]
  },
  {
   "cell_type": "code",
   "execution_count": 13,
   "id": "bdb92a0a",
   "metadata": {},
   "outputs": [
    {
     "data": {
      "image/png": "[encoded data removed]",
      "text/plain": [
       "<Figure size 432x288 with 1 Axes>"
      ]
     },
     "metadata": {
      "needs_background": "light"
     },
     "output_type": "display_data"
    }
   ],
   "source": [
    "zz = np.zeros([xx.shape[0], xx.shape[1]])\n",
    "\n",
    "for i in range(xx.shape[0]):\n",
    "    for j in range(xx.shape[1]):\n",
    "        zz[i][j] = OR(xx[i][j], yy[i][j])\n",
    "\n",
    "fig, ax = plt.subplots()\n",
    "ax.scatter(xx, yy, c=zz)\n",
    "ax.set_aspect('equal', adjustable='box')\n",
    "plt.show()"
   ]
  },
  {
   "cell_type": "code",
   "execution_count": 14,
   "id": "debaca00",
   "metadata": {},
   "outputs": [
    {
     "data": {
      "image/png": "[encoded data removed]",
      "text/plain": [
       "<Figure size 432x288 with 1 Axes>"
      ]
     },
     "metadata": {
      "needs_background": "light"
     },
     "output_type": "display_data"
    }
   ],
   "source": [
    "zz = np.zeros([xx.shape[0], xx.shape[1]])\n",
    "\n",
    "for i in range(xx.shape[0]):\n",
    "    for j in range(xx.shape[1]):\n",
    "        zz[i][j] = XOR(xx[i][j], yy[i][j])\n",
    "\n",
    "fig, ax = plt.subplots()\n",
    "ax.scatter(xx, yy, c=zz)\n",
    "ax.set_aspect('equal', adjustable='box')\n",
    "plt.show()"
   ]
  },
  {
   "cell_type": "code",
   "execution_count": null,
   "id": "1376865b",
   "metadata": {},
   "outputs": [],
   "source": []
  }
 ],
 "metadata": {
  "kernelspec": {
   "display_name": "Python 3 (ipykernel)",
   "language": "python",
   "name": "python3"
  },
  "language_info": {
   "codemirror_mode": {
    "name": "ipython",
    "version": 3
   },
   "file_extension": ".py",
   "mimetype": "text/x-python",
   "name": "python",
   "nbconvert_exporter": "python",
   "pygments_lexer": "ipython3",
   "version": "3.7.11"
  }
 },
 "nbformat": 4,
 "nbformat_minor": 5
}
